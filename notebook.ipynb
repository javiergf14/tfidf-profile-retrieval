{
 "cells": [
  {
   "cell_type": "code",
   "execution_count": 1,
   "metadata": {
    "collapsed": false,
    "deletable": true,
    "editable": true
   },
   "outputs": [],
   "source": [
    "import numpy as np\n",
    "from sklearn.feature_extraction.text import TfidfVectorizer, TfidfTransformer\n",
    "from tabulate import tabulate"
   ]
  },
  {
   "cell_type": "markdown",
   "metadata": {
    "deletable": true,
    "editable": true
   },
   "source": [
    "Usually, when evaluation a information retrieval model, the basic concepts are the documents $d$ and a query $q$. The documents are the static elements, which express ideas about some topic in natural language. On the other hand, the queries represents a variable information need for documents pertaining to some topic. A document is represented by a set of index terms $k_i$. \n",
    "\n",
    "For our particular case, the <u>topics</u> represent conceptually the documents, since they are permanent along the model, and the <u>text snippets</u> are the queries, since we pretend to match to which profile is the query related."
   ]
  },
  {
   "cell_type": "code",
   "execution_count": 2,
   "metadata": {
    "collapsed": false,
    "deletable": true,
    "editable": true
   },
   "outputs": [],
   "source": [
    "# Defining topics.\n",
    "# Each topic is treated conceptually as a document.\n",
    "topic_music    = [\"music\", \"sound\", \"song\", \"songs\", \"Taylor\", \"Swift\", \"Justin\", \"Bieber\", \"Mozart\", \"pop\", \"stars\", \"singing\"]\n",
    "topic_film     = [\"movie\", \"movies\", \"film\", \"Tarantino\", \"Pulp\", \"Fiction\", \"actor\", \"director\", \"economics\"]\n",
    "topic_sports   = [\"football\", \"star\", \"soccer\", \"goal\", \"messi\", \"jogging\", \"swimming\", \"fitness\"]\n",
    "topic_cars     = [\"Ferrari\", \"Lamborghini\", \"car\", \"speed\", \"high\", \"enzo\", \"aventador\", \"driving\"]\n",
    "topic_politics = [\"politics\", \"economics\", \"trump\", \"stock\", \"market\" ]\n",
    "\n",
    "# Dictionary of topics\n",
    "topics_values = {topic_music, topic_film, topic_sports, \n",
    "          \"topic_cars\": topic_cars,\n",
    "          \"topic_politics\": topic_politics}\n",
    "topics_names = [\"topic_music\", \"topic_film\", \"topic_sports\", \"topic_cars\", \"topic_politics\"]"
   ]
  },
  {
   "cell_type": "markdown",
   "metadata": {
    "deletable": true,
    "editable": true
   },
   "source": [
    "We match the topics to some fictitious users:  "
   ]
  },
  {
   "cell_type": "code",
   "execution_count": 13,
   "metadata": {
    "collapsed": true,
    "deletable": true,
    "editable": true
   },
   "outputs": [],
   "source": [
    "# Defining the users\n",
    "user1  = [\"topic_cars\", \"topic_sports\", \"topic_film\"]\n",
    "user2  = [\"topic_music\", \"topic_politics\"]\n",
    "user3  = [\"topic_film\"]\n",
    "users = {\"user1\": user1,\n",
    "         \"user2\": user2,\n",
    "         \"user3\": user3}"
   ]
  },
  {
   "cell_type": "code",
   "execution_count": 4,
   "metadata": {
    "collapsed": true,
    "deletable": true,
    "editable": true
   },
   "outputs": [],
   "source": [
    "# Loading in text snippets that need to be classified.\n",
    "# Every text snippet only has 1 topic per definition.\n",
    "# Each text snippet is a query\n",
    "text_snippets = [\"Jogging is one of the best sports, but I love football\", \n",
    "                 \"Politics news are strongly affecting economics.\",\n",
    "                 \"Tarantino is a bad actor, but a good director.\", \n",
    "                 \"Ferrari Enzo is faster than Lamborghini Aventador.\", \n",
    "                 \"Ferrari builds the best high speed cars.\",\n",
    "                 \"The football star Messi is driving a car from Lamborghini.\",\n",
    "                 \"Pulp fiction is one of the best movies ever made.\",\n",
    "                 \"Taylor Swift and Justin Bieber are pop stars.\",\n",
    "                 \"Mozart is much better than Justin Bieber.\",\n",
    "                 \"Many people do not like to hear Taylor Swift singing in spite of she might be married with Tarantino.\"]"
   ]
  },
  {
   "cell_type": "code",
   "execution_count": 5,
   "metadata": {
    "collapsed": false,
    "deletable": true,
    "editable": true
   },
   "outputs": [],
   "source": [
    "tf = TfidfVectorizer(analyzer='word', \n",
    "                     strip_accents='unicode', # Remove accents during the preprocessing step\n",
    "                     stop_words = 'english', \n",
    "                     lowercase=True, # Convert all characters to lowercase before tokenizing\n",
    "                     use_idf=False, # Enable inverse-document-frequency reweightening\n",
    "                     sublinear_tf = True,\n",
    "                     norm='l2')\n",
    "\n",
    "tfidf = TfidfVectorizer(analyzer='word', \n",
    "                     strip_accents='unicode', # Remove accents during the preprocessing step\n",
    "                     stop_words = 'english', \n",
    "                     lowercase=True, # Convert all characters to lowercase before tokenizing\n",
    "                     use_idf=True, # Enable inverse-document-frequency reweightening\n",
    "                     smooth_idf = True, # Smooth idf weights by adding one to document frequencies. Prevents zero divisions.\n",
    "                     sublinear_tf = True,\n",
    "                     norm='l2')"
   ]
  },
  {
   "cell_type": "code",
   "execution_count": 6,
   "metadata": {
    "collapsed": false,
    "deletable": true,
    "editable": true
   },
   "outputs": [
    {
     "name": "stdout",
     "output_type": "stream",
     "text": [
      "{'car': 3, 'film': 10, 'taylor': 39, 'stock': 35, 'market': 18, 'jogging': 15, 'driving': 5, 'swimming': 37, 'mozart': 22, 'movies': 21, 'economics': 6, 'goal': 13, 'justin': 16, 'stars': 34, 'tarantino': 38, 'music': 23, 'songs': 30, 'trump': 40, 'football': 12, 'song': 29, 'politics': 24, 'fitness': 11, 'pop': 25, 'sound': 31, 'speed': 32, 'ferrari': 8, 'swift': 36, 'bieber': 2, 'high': 14, 'enzo': 7, 'aventador': 1, 'singing': 27, 'actor': 0, 'fiction': 9, 'director': 4, 'messi': 19, 'lamborghini': 17, 'star': 33, 'soccer': 28, 'pulp': 26, 'movie': 20}\n"
     ]
    }
   ],
   "source": [
    "# Represent each document as a weighted tf-idf vector\n",
    "topics_text = list(map(lambda x: \",\".join(x), topics.values()))\n",
    "tf_matrix = tf.fit_transform(topics_text)\n",
    "print(tf.vocabulary_)"
   ]
  },
  {
   "cell_type": "code",
   "execution_count": 7,
   "metadata": {
    "collapsed": true,
    "deletable": true,
    "editable": true
   },
   "outputs": [],
   "source": [
    "# Represent the query as a weighted tf-idf vector\n",
    "tfidf_matrix = tfidf.fit_transform(topics_text)\n",
    "tfidf_query = tfidf.transform(text_snippets)\n",
    "\n",
    "# Compute the cosine similarity score for the query vector and each document vector.\n",
    "# Note: Cosine for length-normalized vectors is simply the dot product (or scalar product).\n",
    "cosine_similarity = (tf_matrix * tfidf_query.T).A"
   ]
  },
  {
   "cell_type": "markdown",
   "metadata": {
    "deletable": true,
    "editable": true
   },
   "source": [
    "Let us visualize the cosine similarity matrix. It represents, for each of the documents (columns), what are the most similar topics (rows):"
   ]
  },
  {
   "cell_type": "code",
   "execution_count": 8,
   "metadata": {
    "collapsed": false
   },
   "outputs": [
    {
     "name": "stdout",
     "output_type": "stream",
     "text": [
      "|          |   text1 |   text2 |   text3 |   text4 |   text5 |   text6 |   text7 |   text8 |   text9 |   text10 |\n",
      "|:---------|--------:|--------:|--------:|--------:|--------:|--------:|--------:|--------:|--------:|---------:|\n",
      "| music    |    0.00 |    0.00 |    0.00 |    0.00 |    0.00 |    0.00 |    0.00 |    0.71 |    0.50 |     0.43 |\n",
      "| films    |    0.00 |    0.21 |    0.58 |    0.00 |    0.00 |    0.00 |    0.58 |    0.00 |    0.00 |     0.17 |\n",
      "| sports   |    0.00 |    0.63 |    0.00 |    0.00 |    0.00 |    0.00 |    0.00 |    0.00 |    0.00 |     0.00 |\n",
      "| cars     |    0.00 |    0.00 |    0.00 |    0.71 |    0.61 |    0.43 |    0.00 |    0.00 |    0.00 |     0.00 |\n",
      "| politics |    0.50 |    0.00 |    0.00 |    0.00 |    0.00 |    0.43 |    0.00 |    0.00 |    0.00 |     0.00 |\n"
     ]
    }
   ],
   "source": [
    "headers = ['text1', 'text2', 'text3', 'text4', 'text5', 'text6', 'text7', 'text8', 'text9', 'text10']\n",
    "body = np.append(np.array([[\"music\"],[\"films\"],[\"sports\"],[\"cars\"],[\"politics\"]])\n",
    "                 , cosine_similarity, axis=1)\n",
    "print(tabulate(body, headers=headers, tablefmt='pipe', floatfmt=\".2f\"))"
   ]
  },
  {
   "cell_type": "code",
   "execution_count": 9,
   "metadata": {
    "collapsed": true,
    "deletable": true,
    "editable": true
   },
   "outputs": [],
   "source": [
    "# Categorization of the text_snippets\n",
    "# Rank documents with respect to the query by score (the higher, the better)\n",
    "# Return best ones.\n",
    "categories = np.argmax(cosine_similarity, axis=0)"
   ]
  },
  {
   "cell_type": "code",
   "execution_count": 10,
   "metadata": {
    "collapsed": false,
    "deletable": true,
    "editable": true
   },
   "outputs": [],
   "source": [
    "# Assign text_snippets to users\n",
    "user1_result = []\n",
    "user2_result = []\n",
    "user3_result = []\n",
    "\n",
    "for text_id, category_id in enumerate(categories):\n",
    "    category = topics_names[category_id]\n",
    "    if category in user1:\n",
    "        user1_result.append(text_id)\n",
    "    if category in user2:\n",
    "        user2_result.append(text_id)\n",
    "    if category in user3:\n",
    "        user3_result.append(text_id)"
   ]
  },
  {
   "cell_type": "code",
   "execution_count": 15,
   "metadata": {
    "collapsed": false,
    "deletable": true,
    "editable": true
   },
   "outputs": [
    {
     "name": "stdout",
     "output_type": "stream",
     "text": [
      "user1: ['topic_cars', 'topic_sports', 'topic_film']\n",
      "['Politics news are strongly affecting economics.', 'Tarantino is a bad actor, but a good director.', 'Ferrari Enzo is faster than Lamborghini Aventador.', 'Ferrari builds the best high speed cars.', 'The football star Messi is driving a car from Lamborghini.', 'Pulp fiction is one of the best movies ever made.']\n",
      "\n",
      "user2: ['topic_music', 'topic_politics']\n",
      "['Jogging is one of the best sports, but I love football', 'Taylor Swift and Justin Bieber are pop stars.', 'Mozart is much better than Justin Bieber.', 'Many people do not like to hear Taylor Swift singing in spite of she might be married with Tarantino.']\n",
      "\n",
      "user3: ['topic_film']\n",
      "['Tarantino is a bad actor, but a good director.', 'Pulp fiction is one of the best movies ever made.']\n",
      "\n"
     ]
    }
   ],
   "source": [
    "def print_text_snippets(user, name):\n",
    "    print(name + \": \" + str(users[name]))\n",
    "    print(list (map(lambda x: text_snippets[x], user)))\n",
    "    print()\n",
    "    \n",
    "print_text_snippets(user1_result, \"user1\")\n",
    "print_text_snippets(user2_result, \"user2\")\n",
    "print_text_snippets(user3_result, \"user3\")"
   ]
  }
 ],
 "metadata": {
  "kernelspec": {
   "display_name": "Python 3",
   "language": "python",
   "name": "python3"
  },
  "language_info": {
   "codemirror_mode": {
    "name": "ipython",
    "version": 3
   },
   "file_extension": ".py",
   "mimetype": "text/x-python",
   "name": "python",
   "nbconvert_exporter": "python",
   "pygments_lexer": "ipython3",
   "version": "3.5.2"
  }
 },
 "nbformat": 4,
 "nbformat_minor": 2
}
