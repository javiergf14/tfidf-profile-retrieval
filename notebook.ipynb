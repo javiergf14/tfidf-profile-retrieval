{
 "cells": [
  {
   "cell_type": "code",
   "execution_count": 1,
   "metadata": {},
   "outputs": [],
   "source": [
    "# Loading in documents that need to be classified\n",
    "# Every document only has 1 topic\n",
    "text_snippets = [\"Jogging is one of the best sports, but I love football\", \n",
    "             \"Politics news are strongly affecting economics.\",\n",
    "             \"Tarantino is a bad actor, but a good director.\", \n",
    "             \"Ferrari Enzo is faster than Lamborghini Aventador.\", \n",
    "             \"Ferrari builds the best high speed cars.\",\n",
    "            \"The football star Messi is driving a car from Lamborghini.\",\n",
    "            \"Pulp fiction is one of the best movies ever made.\",\n",
    "            \"Taylor Swift and Justin Bieber are pop stars.\",\n",
    "            \"Mozart is much better than Justin Bieber.\",\n",
    "            \"Many people do not like to hear Taylor Swift singing in spite of she is married with Tarantino.\"]"
   ]
  },
  {
   "cell_type": "code",
   "execution_count": 2,
   "metadata": {},
   "outputs": [
    {
     "name": "stdout",
     "output_type": "stream",
     "text": [
      "['music,sound,song,songs,Taylor,swift,Justin,Bieber,Mozart,pop,stars,singing', 'movie,movies,film,tarantino,pulp,fiction,actor,director', 'football,star,soccer,goal,messi,jogging,swimming,fitness', 'ferrari,lamborghini,car,speed,high,enzo,aventador,driving', 'politics,economics,trump,stock,market']\n"
     ]
    }
   ],
   "source": [
    "# Defining topics\n",
    "topic_music = [\"music\", \"sound\", \"song\", \"songs\", \"Taylor\", \"swift\", \"Justin\", \"Bieber\", \"Mozart\", \"pop\", \"stars\", \"singing\"]\n",
    "topic_film = [\"movie\", \"movies\", \"film\", \"tarantino\", \"pulp\", \"fiction\", \"actor\", \"director\"]\n",
    "topic_sports = [\"football\", \"star\", \"soccer\", \"goal\", \"messi\", \"jogging\", \"swimming\", \"fitness\"]\n",
    "topic_cars = [\"ferrari\", \"lamborghini\", \"car\", \"speed\", \"high\", \"enzo\", \"aventador\", \"driving\"]\n",
    "topic_politics = [\"politics\", \"economics\", \"trump\", \"stock\", \"market\" ]\n",
    "topics = [\",\".join(topic_music), \",\".join(topic_film), \",\".join(topic_sports), \",\".join(topic_cars), \",\".join(topic_politics)]\n",
    "topic_name = [\"topic_music\", \"topic_film\", \"topic_sports\", \"topic_cars\", \"topic_politics\"]\n",
    "print(topics)"
   ]
  },
  {
   "cell_type": "code",
   "execution_count": 3,
   "metadata": {
    "collapsed": true
   },
   "outputs": [],
   "source": [
    "# Defining the users\n",
    "user_javi = [\"topic_cars\", \"topic_sports\", \"topic_film\"]\n",
    "user_tolga = [\"topic_music\", \"topic_politics\"]\n",
    "user_aitor = [\"topic_film\"]"
   ]
  },
  {
   "cell_type": "code",
   "execution_count": 4,
   "metadata": {},
   "outputs": [],
   "source": [
    "from sklearn.feature_extraction.text import TfidfVectorizer\n",
    "tf = TfidfVectorizer(analyzer='word', \n",
    "                     strip_accents='unicode', # Remove accents during the preprocessing step\n",
    "                     stop_words = 'english', \n",
    "                     lowercase=True, # Convert all characters to lowercase before tokenizing\n",
    "                     use_idf=True, # Enable inverse-document-frequency reweightening\n",
    "                     smooth_idf = True, # Smooth idf weights by adding one to document frequencies. Prevents zero divisions.\n",
    "                     sublinear_tf = True,\n",
    "                     norm='l2'\n",
    "                    )"
   ]
  },
  {
   "cell_type": "code",
   "execution_count": 5,
   "metadata": {},
   "outputs": [
    {
     "name": "stdout",
     "output_type": "stream",
     "text": [
      "{'music': 23, 'sound': 31, 'song': 29, 'songs': 30, 'taylor': 39, 'swift': 36, 'justin': 16, 'bieber': 2, 'mozart': 22, 'pop': 25, 'stars': 34, 'singing': 27, 'movie': 20, 'movies': 21, 'film': 10, 'tarantino': 38, 'pulp': 26, 'fiction': 9, 'actor': 0, 'director': 4, 'football': 12, 'star': 33, 'soccer': 28, 'goal': 13, 'messi': 19, 'jogging': 15, 'swimming': 37, 'fitness': 11, 'ferrari': 8, 'lamborghini': 17, 'car': 3, 'speed': 32, 'high': 14, 'enzo': 7, 'aventador': 1, 'driving': 5, 'politics': 24, 'economics': 6, 'trump': 40, 'stock': 35, 'market': 18}\n"
     ]
    }
   ],
   "source": [
    "# Represent each document as a weighted tf-idf vector\n",
    "tfidf_matrix = tf.fit_transform(topics)\n",
    "print(tf.vocabulary_)"
   ]
  },
  {
   "cell_type": "code",
   "execution_count": 6,
   "metadata": {},
   "outputs": [
    {
     "name": "stdout",
     "output_type": "stream",
     "text": [
      "[[ 0.          0.          0.          0.          0.          0.          0.\n",
      "   0.70710678  0.5         0.4330127 ]\n",
      " [ 0.          0.          0.61237244  0.          0.          0.\n",
      "   0.61237244  0.          0.          0.1767767 ]\n",
      " [ 0.5         0.          0.          0.          0.          0.4330127\n",
      "   0.          0.          0.          0.        ]\n",
      " [ 0.          0.          0.          0.70710678  0.61237244  0.4330127\n",
      "   0.          0.          0.          0.        ]\n",
      " [ 0.          0.63245553  0.          0.          0.          0.          0.\n",
      "   0.          0.          0.        ]]\n"
     ]
    }
   ],
   "source": [
    "# Represent the query as a weighted tf-idf vector\n",
    "tfidf_query = tf.transform(text_snippets)\n",
    "\n",
    "# Compute the cosine similarity score for the query vector and each document vector.\n",
    "# Note: Cosine for length-normalized vectors is simply the dot product (or scalar product).\n",
    "cosine_similarity = (tfidf_matrix * tfidf_query.T).A\n",
    "print(cosine_similarity)"
   ]
  },
  {
   "cell_type": "code",
   "execution_count": 7,
   "metadata": {},
   "outputs": [
    {
     "name": "stdout",
     "output_type": "stream",
     "text": [
      "topic_music\n",
      "[ 0.          0.          0.          0.          0.          0.          0.\n",
      "  0.70710678  0.5         0.4330127 ]\n",
      "\n",
      "topic_film\n",
      "[ 0.          0.          0.61237244  0.          0.          0.\n",
      "  0.61237244  0.          0.          0.1767767 ]\n",
      "\n",
      "topic_sports\n",
      "[ 0.5        0.         0.         0.         0.         0.4330127  0.         0.\n",
      "  0.         0.       ]\n",
      "\n",
      "topic_cars\n",
      "[ 0.          0.          0.          0.70710678  0.61237244  0.4330127   0.\n",
      "  0.          0.          0.        ]\n",
      "\n",
      "topic_politics\n",
      "[ 0.          0.63245553  0.          0.          0.          0.          0.\n",
      "  0.          0.          0.        ]\n",
      "\n"
     ]
    }
   ],
   "source": [
    "# TODO: Rank documents with respect to the query by score (the higher, the better)\n",
    "# TODO: Return best one.\n",
    "\n",
    "\n",
    "for i, query in enumerate(cosine_similarity):\n",
    "    print(topic_name[i])\n",
    "    print(query)\n",
    "    print()"
   ]
  },
  {
   "cell_type": "code",
   "execution_count": 8,
   "metadata": {},
   "outputs": [],
   "source": [
    "# Categorization of the text_snippets\n",
    "import numpy as np\n",
    "categories = np.argmax(cosine_similarity, axis=0)"
   ]
  },
  {
   "cell_type": "code",
   "execution_count": 9,
   "metadata": {
    "collapsed": true
   },
   "outputs": [],
   "source": [
    "# Assign text_snippets to users\n",
    "user_javi_result = []\n",
    "user_tolga_result = []\n",
    "user_aitor_result = []\n",
    "\n",
    "for text_id, category_id in enumerate(categories):\n",
    "    category = topic_name[category_id]\n",
    "    if category in user_javi:\n",
    "        user_javi_result.append(text_id)\n",
    "    if category in user_tolga:\n",
    "        user_tolga_result.append(text_id)\n",
    "    if category in user_aitor:\n",
    "        user_aitor_result.append(text_id)"
   ]
  },
  {
   "cell_type": "code",
   "execution_count": 10,
   "metadata": {},
   "outputs": [
    {
     "name": "stdout",
     "output_type": "stream",
     "text": [
      "Javi\n",
      "['Jogging is one of the best sports, but I love football', 'Tarantino is a bad actor, but a good director.', 'Ferrari Enzo is faster than Lamborghini Aventador.', 'Ferrari builds the best high speed cars.', 'The football star Messi is driving a car from Lamborghini.', 'Pulp fiction is one of the best movies ever made.']\n",
      "\n",
      "Tolga\n",
      "['Politics news are strongly affecting economics.', 'Taylor Swift and Justin Bieber are pop stars.', 'Mozart is much better than Justin Bieber.', 'Many people do not like to hear Taylor Swift singing in spite of she is married with Tarantino.']\n",
      "\n",
      "Aitor\n",
      "['Tarantino is a bad actor, but a good director.', 'Pulp fiction is one of the best movies ever made.']\n",
      "\n"
     ]
    }
   ],
   "source": [
    "def print_text_snippets(user, name):\n",
    "    print(name)\n",
    "    print(list (map(lambda x: text_snippets[x], user)))\n",
    "    print()\n",
    "    \n",
    "print_text_snippets(user_javi_result, \"Javi\")\n",
    "print_text_snippets(user_tolga_result, \"Tolga\")\n",
    "print_text_snippets(user_aitor_result, \"Aitor\")"
   ]
  }
 ],
 "metadata": {
  "kernelspec": {
   "display_name": "Python 3",
   "language": "python",
   "name": "python3"
  },
  "language_info": {
   "codemirror_mode": {
    "name": "ipython",
    "version": 3
   },
   "file_extension": ".py",
   "mimetype": "text/x-python",
   "name": "python",
   "nbconvert_exporter": "python",
   "pygments_lexer": "ipython3",
   "version": "3.6.0"
  }
 },
 "nbformat": 4,
 "nbformat_minor": 2
}
