{
 "cells": [
  {
   "cell_type": "code",
   "execution_count": 1,
   "metadata": {
    "collapsed": false,
    "deletable": true,
    "editable": true
   },
   "outputs": [],
   "source": [
    "documents = [\"Jogging is one of the best sports, but I love football\", \"I love pizza and pasta.\"]\n",
    "query = [\"I love sports, concretely football.\"]"
   ]
  },
  {
   "cell_type": "code",
   "execution_count": 2,
   "metadata": {
    "collapsed": true
   },
   "outputs": [],
   "source": [
    "from sklearn.feature_extraction.text import TfidfVectorizer\n",
    "tf = TfidfVectorizer(analyzer='word', \n",
    "                     strip_accents='unicode', # Remove accents during the preprocessing step\n",
    "                     stop_words = 'english', \n",
    "                     lowercase=True, # Convert all characters to lowercase before tokenizing\n",
    "                     use_idf=True, # Enable inverse-document-frequency reweightening\n",
    "                     smooth_idf = True, # Smooth idf weights by adding one to document frequencies. Prevents zero divisions.\n",
    "                     norm='l2',\n",
    "                    )"
   ]
  },
  {
   "cell_type": "code",
   "execution_count": 3,
   "metadata": {
    "collapsed": false
   },
   "outputs": [
    {
     "name": "stdout",
     "output_type": "stream",
     "text": [
      "{u'jogging': 2, u'love': 3, u'pizza': 5, u'pasta': 4, u'football': 1, u'best': 0, u'sports': 6}\n"
     ]
    }
   ],
   "source": [
    "# Represent each document as a weighted tf-idf vector\n",
    "tfidf_matrix = tf.fit_transform(documents)\n",
    "print(tf.vocabulary_)"
   ]
  },
  {
   "cell_type": "code",
   "execution_count": 4,
   "metadata": {
    "collapsed": false
   },
   "outputs": [
    {
     "name": "stdout",
     "output_type": "stream",
     "text": [
      "[[ 0.74576899]\n",
      " [ 0.20199309]]\n"
     ]
    }
   ],
   "source": [
    "# Represent the query as a weighted tf-idf vector\n",
    "tfidf_query = tf.transform(query)\n",
    "\n",
    "# Compute the cosine similarity score for the query vector and each document vector.\n",
    "# Note: Cosine for length-normalized vectors is simply the dot product (or scalar product).\n",
    "cosine_similarity = (tfidf_matrix * tfidf_query.T).A\n",
    "print(cosine_similarity)"
   ]
  },
  {
   "cell_type": "code",
   "execution_count": 5,
   "metadata": {
    "collapsed": true
   },
   "outputs": [],
   "source": [
    "# TODO: Rank documents with respect to the query by score (the higher, the better)\n",
    "# TODO: Return best one."
   ]
  }
 ],
 "metadata": {
  "kernelspec": {
   "display_name": "Python 2",
   "language": "python",
   "name": "python2"
  },
  "language_info": {
   "codemirror_mode": {
    "name": "ipython",
    "version": 2
   },
   "file_extension": ".py",
   "mimetype": "text/x-python",
   "name": "python",
   "nbconvert_exporter": "python",
   "pygments_lexer": "ipython2",
   "version": "2.7.12"
  }
 },
 "nbformat": 4,
 "nbformat_minor": 2
}
